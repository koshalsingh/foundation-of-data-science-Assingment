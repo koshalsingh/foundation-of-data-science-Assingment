{
 "cells": [
  {
   "cell_type": "code",
   "execution_count": 45,
   "metadata": {},
   "outputs": [],
   "source": [
    "import pandas as pd\n",
    "import numpy as np"
   ]
  },
  {
   "cell_type": "code",
   "execution_count": 46,
   "metadata": {},
   "outputs": [
    {
     "data": {
      "text/html": [
       "<div>\n",
       "<style scoped>\n",
       "    .dataframe tbody tr th:only-of-type {\n",
       "        vertical-align: middle;\n",
       "    }\n",
       "\n",
       "    .dataframe tbody tr th {\n",
       "        vertical-align: top;\n",
       "    }\n",
       "\n",
       "    .dataframe thead th {\n",
       "        text-align: right;\n",
       "    }\n",
       "</style>\n",
       "<table border=\"1\" class=\"dataframe\">\n",
       "  <thead>\n",
       "    <tr style=\"text-align: right;\">\n",
       "      <th></th>\n",
       "      <th>AveragePrice</th>\n",
       "      <th>Total Volume</th>\n",
       "      <th>4046</th>\n",
       "      <th>4225</th>\n",
       "      <th>4770</th>\n",
       "      <th>Total Bags</th>\n",
       "      <th>Small Bags</th>\n",
       "      <th>Large Bags</th>\n",
       "      <th>XLarge Bags</th>\n",
       "    </tr>\n",
       "  </thead>\n",
       "  <tbody>\n",
       "    <tr>\n",
       "      <th>0</th>\n",
       "      <td>1.33</td>\n",
       "      <td>64236.62</td>\n",
       "      <td>1036.74</td>\n",
       "      <td>54454.85</td>\n",
       "      <td>48.16</td>\n",
       "      <td>8696.87</td>\n",
       "      <td>8603.62</td>\n",
       "      <td>93.25</td>\n",
       "      <td>0.0</td>\n",
       "    </tr>\n",
       "    <tr>\n",
       "      <th>1</th>\n",
       "      <td>1.35</td>\n",
       "      <td>54876.98</td>\n",
       "      <td>674.28</td>\n",
       "      <td>44638.81</td>\n",
       "      <td>58.33</td>\n",
       "      <td>9505.56</td>\n",
       "      <td>9408.07</td>\n",
       "      <td>97.49</td>\n",
       "      <td>0.0</td>\n",
       "    </tr>\n",
       "    <tr>\n",
       "      <th>2</th>\n",
       "      <td>0.93</td>\n",
       "      <td>118220.22</td>\n",
       "      <td>794.70</td>\n",
       "      <td>109149.67</td>\n",
       "      <td>130.50</td>\n",
       "      <td>8145.35</td>\n",
       "      <td>8042.21</td>\n",
       "      <td>103.14</td>\n",
       "      <td>0.0</td>\n",
       "    </tr>\n",
       "    <tr>\n",
       "      <th>3</th>\n",
       "      <td>1.08</td>\n",
       "      <td>78992.15</td>\n",
       "      <td>1132.00</td>\n",
       "      <td>71976.41</td>\n",
       "      <td>72.58</td>\n",
       "      <td>5811.16</td>\n",
       "      <td>5677.40</td>\n",
       "      <td>133.76</td>\n",
       "      <td>0.0</td>\n",
       "    </tr>\n",
       "    <tr>\n",
       "      <th>4</th>\n",
       "      <td>1.28</td>\n",
       "      <td>51039.60</td>\n",
       "      <td>941.48</td>\n",
       "      <td>43838.39</td>\n",
       "      <td>75.78</td>\n",
       "      <td>6183.95</td>\n",
       "      <td>5986.26</td>\n",
       "      <td>197.69</td>\n",
       "      <td>0.0</td>\n",
       "    </tr>\n",
       "  </tbody>\n",
       "</table>\n",
       "</div>"
      ],
      "text/plain": [
       "   AveragePrice  Total Volume     4046       4225    4770  Total Bags  \\\n",
       "0          1.33      64236.62  1036.74   54454.85   48.16     8696.87   \n",
       "1          1.35      54876.98   674.28   44638.81   58.33     9505.56   \n",
       "2          0.93     118220.22   794.70  109149.67  130.50     8145.35   \n",
       "3          1.08      78992.15  1132.00   71976.41   72.58     5811.16   \n",
       "4          1.28      51039.60   941.48   43838.39   75.78     6183.95   \n",
       "\n",
       "   Small Bags  Large Bags  XLarge Bags  \n",
       "0     8603.62       93.25          0.0  \n",
       "1     9408.07       97.49          0.0  \n",
       "2     8042.21      103.14          0.0  \n",
       "3     5677.40      133.76          0.0  \n",
       "4     5986.26      197.69          0.0  "
      ]
     },
     "execution_count": 46,
     "metadata": {},
     "output_type": "execute_result"
    }
   ],
   "source": [
    "df = pd.read_csv('avocado.csv')\n",
    "df = df.drop(['type','year','region','Date','Unnamed: 0'],axis=1)\n",
    "df.head()"
   ]
  },
  {
   "cell_type": "code",
   "execution_count": 47,
   "metadata": {},
   "outputs": [
    {
     "name": "stdout",
     "output_type": "stream",
     "text": [
      "<class 'pandas.core.frame.DataFrame'>\n",
      "RangeIndex: 18249 entries, 0 to 18248\n",
      "Data columns (total 9 columns):\n",
      " #   Column        Non-Null Count  Dtype  \n",
      "---  ------        --------------  -----  \n",
      " 0   AveragePrice  18249 non-null  float64\n",
      " 1   Total Volume  18249 non-null  float64\n",
      " 2   4046          18249 non-null  float64\n",
      " 3   4225          18249 non-null  float64\n",
      " 4   4770          18249 non-null  float64\n",
      " 5   Total Bags    18249 non-null  float64\n",
      " 6   Small Bags    18249 non-null  float64\n",
      " 7   Large Bags    18249 non-null  float64\n",
      " 8   XLarge Bags   18249 non-null  float64\n",
      "dtypes: float64(9)\n",
      "memory usage: 1.3 MB\n"
     ]
    }
   ],
   "source": [
    "df.info()"
   ]
  },
  {
   "cell_type": "code",
   "execution_count": 48,
   "metadata": {},
   "outputs": [],
   "source": [
    "from sklearn.preprocessing import StandardScaler\n",
    "df_std = StandardScaler().fit_transform(df)"
   ]
  },
  {
   "cell_type": "code",
   "execution_count": 49,
   "metadata": {},
   "outputs": [
    {
     "data": {
      "text/plain": [
       "array([[-0.18868864, -0.22771641, -0.23081597, ..., -0.2326465 ,\n",
       "        -0.22235202, -0.17557961],\n",
       "       [-0.13901962, -0.23042664, -0.23110251, ..., -0.23156838,\n",
       "        -0.22233464, -0.17557961],\n",
       "       [-1.18206895, -0.21208462, -0.23100731, ..., -0.23339891,\n",
       "        -0.22231148, -0.17557961],\n",
       "       ...,\n",
       "       [ 1.15237477, -0.24233073, -0.2306933 , ..., -0.23164379,\n",
       "        -0.22256082, -0.17557961],\n",
       "       [ 1.30138182, -0.24162464, -0.2304279 , ..., -0.22954271,\n",
       "        -0.2225293 , -0.17557961],\n",
       "       [ 0.53151208, -0.24125273, -0.22934712, ..., -0.22811058,\n",
       "        -0.22262764, -0.17557961]])"
      ]
     },
     "execution_count": 49,
     "metadata": {},
     "output_type": "execute_result"
    }
   ],
   "source": [
    "df_std"
   ]
  },
  {
   "cell_type": "code",
   "execution_count": 50,
   "metadata": {},
   "outputs": [
    {
     "data": {
      "text/plain": [
       "array([[-0.18868864, -0.13901962, -1.18206895, ...,  1.15237477,\n",
       "         1.30138182,  0.53151208],\n",
       "       [-0.22771641, -0.23042664, -0.21208462, ..., -0.24233073,\n",
       "        -0.24162464, -0.24125273],\n",
       "       [-0.23081597, -0.23110251, -0.23100731, ..., -0.2306933 ,\n",
       "        -0.2304279 , -0.22934712],\n",
       "       ...,\n",
       "       [-0.2326465 , -0.23156838, -0.23339891, ..., -0.23164379,\n",
       "        -0.22954271, -0.22811058],\n",
       "       [-0.22235202, -0.22233464, -0.22231148, ..., -0.22256082,\n",
       "        -0.2225293 , -0.22262764],\n",
       "       [-0.17557961, -0.17557961, -0.17557961, ..., -0.17557961,\n",
       "        -0.17557961, -0.17557961]])"
      ]
     },
     "execution_count": 50,
     "metadata": {},
     "output_type": "execute_result"
    }
   ],
   "source": [
    "features = df_std.T\n",
    "features"
   ]
  },
  {
   "cell_type": "code",
   "execution_count": 51,
   "metadata": {},
   "outputs": [
    {
     "data": {
      "text/plain": [
       "array([[ 1.0000548 , -0.19276295, -0.20832846, -0.17293725, -0.17945582,\n",
       "        -0.17709763, -0.17473936, -0.17294949, -0.11759807],\n",
       "       [-0.19276295,  1.0000548 ,  0.97791675,  0.97423421,  0.87225005,\n",
       "         0.96309986,  0.96729124,  0.88068789,  0.74719831],\n",
       "       [-0.20832846,  0.97791675,  1.0000548 ,  0.92616071,  0.83343477,\n",
       "         0.920107  ,  0.92533058,  0.83869097,  0.69941561],\n",
       "       [-0.17293725,  0.97423421,  0.92616071,  1.0000548 ,  0.88790365,\n",
       "         0.90583709,  0.91608143,  0.81005961,  0.6888465 ],\n",
       "       [-0.17945582,  0.87225005,  0.83343477,  0.88790365,  1.0000548 ,\n",
       "         0.79235771,  0.80277694,  0.6985093 ,  0.67989831],\n",
       "       [-0.17709763,  0.96309986,  0.920107  ,  0.90583709,  0.79235771,\n",
       "         1.0000548 ,  0.99438904,  0.94306075,  0.80427666],\n",
       "       [-0.17473936,  0.96729124,  0.92533058,  0.91608143,  0.80277694,\n",
       "         0.99438904,  1.0000548 ,  0.90263833,  0.80688884],\n",
       "       [-0.17294949,  0.88068789,  0.83869097,  0.81005961,  0.6985093 ,\n",
       "         0.94306075,  0.90263833,  1.0000548 ,  0.71089737],\n",
       "       [-0.11759807,  0.74719831,  0.69941561,  0.6888465 ,  0.67989831,\n",
       "         0.80427666,  0.80688884,  0.71089737,  1.0000548 ]])"
      ]
     },
     "execution_count": 51,
     "metadata": {},
     "output_type": "execute_result"
    }
   ],
   "source": [
    "cov_matrix = np.cov(features)\n",
    "cov_matrix"
   ]
  },
  {
   "cell_type": "code",
   "execution_count": 52,
   "metadata": {},
   "outputs": [],
   "source": [
    "from numpy import linalg as al"
   ]
  },
  {
   "cell_type": "code",
   "execution_count": 53,
   "metadata": {},
   "outputs": [],
   "source": [
    "eig_val, eig_vec = al.eig(cov_matrix)"
   ]
  },
  {
   "cell_type": "code",
   "execution_count": 54,
   "metadata": {},
   "outputs": [
    {
     "name": "stdout",
     "output_type": "stream",
     "text": [
      "eig_val:\n",
      " [7.03346260e+00 9.63395844e-01 4.25630809e-01 3.35451025e-01\n",
      " 1.30925654e-01 6.74197901e-02 4.42074880e-02 1.58182346e-10\n",
      " 2.45762929e-15]\n"
     ]
    }
   ],
   "source": [
    "print('eig_val:\\n', eig_val)"
   ]
  },
  {
   "cell_type": "code",
   "execution_count": 55,
   "metadata": {},
   "outputs": [
    {
     "name": "stdout",
     "output_type": "stream",
     "text": [
      "eig_vec:\n",
      " [[ 8.18962579e-02 -9.93228855e-01  7.28494565e-02  2.19787742e-02\n",
      "   2.02697721e-03  3.11606912e-02  4.92318372e-03  2.77573759e-07\n",
      "  -1.79030171e-10]\n",
      " [-3.73305274e-01 -1.72887292e-02  1.70224281e-01  6.65843611e-02\n",
      "  -2.01980148e-01  1.38736017e-02 -9.87584598e-02 -8.81018047e-01\n",
      "   4.05737839e-06]\n",
      " [-3.60564447e-01  1.01838975e-02  2.24040236e-01  1.08733474e-01\n",
      "  -4.49279608e-01  7.07307618e-01 -3.99786986e-02  3.22704265e-01\n",
      "  -1.48351550e-06]\n",
      " [-3.59416015e-01 -2.62721064e-02  3.46212157e-01 -5.92781179e-02\n",
      "  -1.68026142e-01 -5.61672136e-01 -5.55596321e-01  3.07176672e-01\n",
      "  -1.41671232e-06]\n",
      " [-3.31127895e-01 -1.75384782e-03  4.28029413e-01 -5.64017150e-01\n",
      "   5.53624495e-01  1.35732295e-01  2.51697840e-01  2.74149163e-02\n",
      "  -1.26078867e-07]\n",
      " [-3.69840250e-01 -4.13341354e-02 -1.60619360e-01  2.27523163e-01\n",
      "   1.38042741e-02 -1.87665145e-01  3.56354131e-01  9.76124198e-02\n",
      "  -7.82316513e-01]\n",
      " [-3.69460578e-01 -4.31336965e-02 -1.18563756e-01  1.41519435e-01\n",
      "  -1.79931049e-01 -3.06537371e-01  5.80780379e-01  1.16504878e-01\n",
      "   5.91889893e-01]\n",
      " [-3.42816086e-01 -2.86787788e-02 -2.34503238e-01  5.27416558e-01\n",
      "   6.14298338e-01  1.73618227e-01 -3.19511794e-01  3.80903722e-02\n",
      "   1.93520701e-01]\n",
      " [-3.07079961e-01 -8.94931929e-02 -7.19446229e-01 -5.58272766e-01\n",
      "  -1.12635211e-01  7.29860846e-02 -2.24060832e-01  2.76152533e-03\n",
      "   1.40345046e-02]]\n"
     ]
    }
   ],
   "source": [
    "print('eig_vec:\\n', eig_vec)"
   ]
  },
  {
   "cell_type": "code",
   "execution_count": 56,
   "metadata": {},
   "outputs": [
    {
     "name": "stdout",
     "output_type": "stream",
     "text": [
      "PC 1 consist  78.1453019895503  % data\n",
      "PC 2 consist  88.84911368263671  % data\n"
     ]
    }
   ],
   "source": [
    "pc1 = eig_val[0]/sum(eig_val)\n",
    "pc2 = (eig_val[1]+eig_val[0])/sum(eig_val)\n",
    "print('PC 1 consist ',pc1*100,' % data')\n",
    "print('PC 2 consist ',pc2*100,' % data')"
   ]
  },
  {
   "cell_type": "code",
   "execution_count": 57,
   "metadata": {},
   "outputs": [
    {
     "data": {
      "text/plain": [
       "array([[ 0.18064095,  0.28023525],\n",
       "       [ 0.18723154,  0.26101928],\n",
       "       [ 0.08472574,  0.65366714],\n",
       "       ...,\n",
       "       [ 0.30408391, -0.22417584],\n",
       "       [ 0.3156748 , -0.27995014],\n",
       "       [ 0.25235386,  0.00849362]])"
      ]
     },
     "execution_count": 57,
     "metadata": {},
     "output_type": "execute_result"
    }
   ],
   "source": [
    "#to find the pc\n",
    "projected = df_std.dot(eig_vec[:2].T)\n",
    "projected"
   ]
  },
  {
   "cell_type": "code",
   "execution_count": 58,
   "metadata": {},
   "outputs": [
    {
     "data": {
      "text/plain": [
       "(18249, 2)"
      ]
     },
     "execution_count": 58,
     "metadata": {},
     "output_type": "execute_result"
    }
   ],
   "source": [
    "projected.shape"
   ]
  },
  {
   "cell_type": "code",
   "execution_count": 59,
   "metadata": {},
   "outputs": [
    {
     "data": {
      "text/html": [
       "<div>\n",
       "<style scoped>\n",
       "    .dataframe tbody tr th:only-of-type {\n",
       "        vertical-align: middle;\n",
       "    }\n",
       "\n",
       "    .dataframe tbody tr th {\n",
       "        vertical-align: top;\n",
       "    }\n",
       "\n",
       "    .dataframe thead th {\n",
       "        text-align: right;\n",
       "    }\n",
       "</style>\n",
       "<table border=\"1\" class=\"dataframe\">\n",
       "  <thead>\n",
       "    <tr style=\"text-align: right;\">\n",
       "      <th></th>\n",
       "      <th>PC1</th>\n",
       "      <th>PC2</th>\n",
       "      <th>y-axis</th>\n",
       "    </tr>\n",
       "  </thead>\n",
       "  <tbody>\n",
       "    <tr>\n",
       "      <th>0</th>\n",
       "      <td>0.180641</td>\n",
       "      <td>0.280235</td>\n",
       "      <td>0.0</td>\n",
       "    </tr>\n",
       "    <tr>\n",
       "      <th>1</th>\n",
       "      <td>0.187232</td>\n",
       "      <td>0.261019</td>\n",
       "      <td>0.0</td>\n",
       "    </tr>\n",
       "    <tr>\n",
       "      <th>2</th>\n",
       "      <td>0.084726</td>\n",
       "      <td>0.653667</td>\n",
       "      <td>0.0</td>\n",
       "    </tr>\n",
       "    <tr>\n",
       "      <th>3</th>\n",
       "      <td>0.125766</td>\n",
       "      <td>0.513069</td>\n",
       "      <td>0.0</td>\n",
       "    </tr>\n",
       "    <tr>\n",
       "      <th>4</th>\n",
       "      <td>0.173972</td>\n",
       "      <td>0.325938</td>\n",
       "      <td>0.0</td>\n",
       "    </tr>\n",
       "    <tr>\n",
       "      <th>...</th>\n",
       "      <td>...</td>\n",
       "      <td>...</td>\n",
       "      <td>...</td>\n",
       "    </tr>\n",
       "    <tr>\n",
       "      <th>18244</th>\n",
       "      <td>0.254493</td>\n",
       "      <td>-0.002100</td>\n",
       "      <td>0.0</td>\n",
       "    </tr>\n",
       "    <tr>\n",
       "      <th>18245</th>\n",
       "      <td>0.271505</td>\n",
       "      <td>-0.075388</td>\n",
       "      <td>0.0</td>\n",
       "    </tr>\n",
       "    <tr>\n",
       "      <th>18246</th>\n",
       "      <td>0.304084</td>\n",
       "      <td>-0.224176</td>\n",
       "      <td>0.0</td>\n",
       "    </tr>\n",
       "    <tr>\n",
       "      <th>18247</th>\n",
       "      <td>0.315675</td>\n",
       "      <td>-0.279950</td>\n",
       "      <td>0.0</td>\n",
       "    </tr>\n",
       "    <tr>\n",
       "      <th>18248</th>\n",
       "      <td>0.252354</td>\n",
       "      <td>0.008494</td>\n",
       "      <td>0.0</td>\n",
       "    </tr>\n",
       "  </tbody>\n",
       "</table>\n",
       "<p>18249 rows × 3 columns</p>\n",
       "</div>"
      ],
      "text/plain": [
       "            PC1       PC2  y-axis\n",
       "0      0.180641  0.280235     0.0\n",
       "1      0.187232  0.261019     0.0\n",
       "2      0.084726  0.653667     0.0\n",
       "3      0.125766  0.513069     0.0\n",
       "4      0.173972  0.325938     0.0\n",
       "...         ...       ...     ...\n",
       "18244  0.254493 -0.002100     0.0\n",
       "18245  0.271505 -0.075388     0.0\n",
       "18246  0.304084 -0.224176     0.0\n",
       "18247  0.315675 -0.279950     0.0\n",
       "18248  0.252354  0.008494     0.0\n",
       "\n",
       "[18249 rows x 3 columns]"
      ]
     },
     "execution_count": 59,
     "metadata": {},
     "output_type": "execute_result"
    }
   ],
   "source": [
    "result = pd.DataFrame(projected, columns=['PC1','PC2'])\n",
    "result['y-axis'] = 0.0\n",
    "result"
   ]
  },
  {
   "cell_type": "code",
   "execution_count": 60,
   "metadata": {},
   "outputs": [],
   "source": [
    "import matplotlib.pyplot as plt\n",
    "import seaborn as sns\n",
    "%matplotlib inline\n",
    "import math"
   ]
  },
  {
   "cell_type": "code",
   "execution_count": null,
   "metadata": {},
   "outputs": [],
   "source": []
  },
  {
   "cell_type": "code",
   "execution_count": 61,
   "metadata": {},
   "outputs": [],
   "source": [
    "#finding the error\n",
    "X = df_std\n",
    "Errors = []\n",
    "for x in range(len(eig_vec)):\n",
    "    G  = eig_vec.T[:x]\n",
    "    X_Gt = np.dot(X,G.T)\n",
    "    X_GGT = np.dot(X_Gt, G)\n",
    "    e=sum(sum(np.subtract(np.array(X),np.array(X_GGT))**2))\n",
    "    er = math.sqrt(e)\n",
    "    Errors.append(er)"
   ]
  },
  {
   "cell_type": "code",
   "execution_count": 62,
   "metadata": {},
   "outputs": [
    {
     "data": {
      "text/plain": [
       "[405.2665789329595,\n",
       " 189.45810766325812,\n",
       " 135.3304370660963,\n",
       " 102.70061442205603,\n",
       " 66.5289854235296,\n",
       " 45.13285470645871,\n",
       " 28.40243378322475,\n",
       " 0.0016989877205428642,\n",
       " 6.868048431884304e-06]"
      ]
     },
     "execution_count": 62,
     "metadata": {},
     "output_type": "execute_result"
    }
   ],
   "source": [
    "Errors"
   ]
  },
  {
   "cell_type": "code",
   "execution_count": 63,
   "metadata": {},
   "outputs": [
    {
     "data": {
      "text/plain": [
       "[<matplotlib.lines.Line2D at 0x7fd91a498590>]"
      ]
     },
     "execution_count": 63,
     "metadata": {},
     "output_type": "execute_result"
    },
    {
     "data": {
      "image/png": "[encoded data removed]",
      "text/plain": [
       "<Figure size 432x288 with 1 Axes>"
      ]
     },
     "metadata": {
      "needs_background": "light"
     },
     "output_type": "display_data"
    }
   ],
   "source": [
    "plt.plot(Errors)"
   ]
  },
  {
   "cell_type": "code",
   "execution_count": null,
   "metadata": {},
   "outputs": [],
   "source": []
  },
  {
   "cell_type": "code",
   "execution_count": null,
   "metadata": {},
   "outputs": [],
   "source": []
  }
 ],
 "metadata": {
  "kernelspec": {
   "display_name": "Python 3",
   "language": "python",
   "name": "python3"
  },
  "language_info": {
   "codemirror_mode": {
    "name": "ipython",
    "version": 3
   },
   "file_extension": ".py",
   "mimetype": "text/x-python",
   "name": "python",
   "nbconvert_exporter": "python",
   "pygments_lexer": "ipython3",
   "version": "3.7.6"
  }
 },
 "nbformat": 4,
 "nbformat_minor": 4
}
